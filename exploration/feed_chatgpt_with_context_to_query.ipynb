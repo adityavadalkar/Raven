{
 "cells": [
  {
   "cell_type": "code",
   "execution_count": 1,
   "metadata": {},
   "outputs": [],
   "source": [
    "import openai\n",
    "\n",
    "# replace YOUR_API_KEY with your actual API key for the ChatGPT service\n",
    "openai.api_key = \"\"\n",
    "\n",
    "import os \n",
    "os.environ[\"OPENAI_API_KEY\"] = \"\"\n",
    "\n",
    "import json\n"
   ]
  },
  {
   "cell_type": "markdown",
   "metadata": {},
   "source": [
    "https://medium.com/mlearning-ai/using-chatgpt-for-question-answering-on-your-own-data-afa33d82fbd0"
   ]
  },
  {
   "cell_type": "code",
   "execution_count": 2,
   "metadata": {},
   "outputs": [],
   "source": [
    "def get_completion(prompt, model=\"gpt-3.5-turbo\"):\n",
    "\n",
    "    messages = [\n",
    "        {\n",
    "        \"role\": \"user\", \n",
    "        \"content\": prompt}\n",
    "        ]\n",
    "\n",
    "    completion = openai.ChatCompletion.create(\n",
    "\n",
    "    model=model,\n",
    "\n",
    "    messages=messages,\n",
    "\n",
    "    temperature=0,# hatGPT responses are indeterministic. It means every time you call the API you will get slightly different response. You can make it deterministic by passing the parameter temperate to 0\n",
    "\n",
    "    )\n",
    "\n",
    "    return completion.choices[0].message[\"content\"]"
   ]
  },
  {
   "cell_type": "markdown",
   "metadata": {},
   "source": [
    "# answer question from provided document"
   ]
  },
  {
   "cell_type": "code",
   "execution_count": 3,
   "metadata": {},
   "outputs": [
    {
     "name": "stdout",
     "output_type": "stream",
     "text": [
      "Note: you may need to restart the kernel to use updated packages.\n"
     ]
    }
   ],
   "source": [
    "# %pip install langchain duckdb unstructured chromadb openai tiktoken"
   ]
  },
  {
   "cell_type": "code",
   "execution_count": 2,
   "metadata": {},
   "outputs": [],
   "source": [
    "from langchain.document_loaders.unstructured import UnstructuredFileLoader \n",
    "\n",
    "loader = UnstructuredFileLoader('outfit_choices.txt')\n",
    "\n",
    "documents = loader.load()"
   ]
  },
  {
   "cell_type": "code",
   "execution_count": 20,
   "metadata": {},
   "outputs": [
    {
     "name": "stdout",
     "output_type": "stream",
     "text": [
      "[Document(page_content='outfit 1 is designed for Beach party, Summer barbecue, Vacation, Day at the beach, Casual summer gathering, Pool party, Music festival, Weekend outing, Picnic, Cruise. It contains {Top: A crisp white button-up shirt with a navy blue v-neck sweater layered over it. Bottom: Khaki chinos or trousers. Shoes: Brown leather loafers. Accessories: A striped or solid-colored silk tie, a leather belt, and a classic wristwatch.}\\n\\noutfit 2 is designed for Casual gathering, Concert, Sport event, Weekend outing, Casual shopping, City exploration, Skate park, Music festival, Road trip, Streetwear event. It contains { Top: Bomber jacket or a varsity jacket. Layering: Plain or striped t-shirt. Bottom: Baggy jeans or cargo pants. Footwear: High-top sneakers or boots. Accessories: Baseball cap worn backward, a chain necklace, and a beanie. }\\n\\noutift 30 is designed for Gym, Casual Friday at work, Casual shopping, Sport event, Weekend outing, Road trip, Casual gathering, Walking the dog, Music festival, City exploration. It contains {Sports Luxe: Blending sportswear and luxury elements, sports luxe style combines athletic-inspired clothing like joggers, hoodies, and sneakers with high-end fabrics, tailored cuts, and refined details.}\\n\\noutfit 31 is designed for Business meetings, Office wear, Semi-formal parties, Professional networking events, Dinners, Weddings, Church, Conferences, Art galleries, Museums. It contains {• navy or gray unstructured blazer • blk or navy & white polo or tee • dk wash or raw indigo denim jeans • black belt • black, white, or gray casual boot/shoes/dress sneakers}', metadata={'source': 'outfit_choices.txt'})]\n"
     ]
    }
   ],
   "source": [
    "print(documents)"
   ]
  },
  {
   "cell_type": "code",
   "execution_count": 3,
   "metadata": {},
   "outputs": [],
   "source": [
    "from langchain.text_splitter import CharacterTextSplitter\n",
    "text_splitter = CharacterTextSplitter(chunk_size=1000, chunk_overlap=0)\n",
    "texts = text_splitter.split_documents(documents)"
   ]
  },
  {
   "cell_type": "code",
   "execution_count": 4,
   "metadata": {},
   "outputs": [],
   "source": [
    "from langchain.embeddings import OpenAIEmbeddings\n",
    "embeddings = OpenAIEmbeddings()"
   ]
  },
  {
   "cell_type": "code",
   "execution_count": 5,
   "metadata": {},
   "outputs": [],
   "source": [
    "from langchain.vectorstores import Chroma\n",
    "db = Chroma.from_documents(texts, embeddings)"
   ]
  },
  {
   "cell_type": "code",
   "execution_count": 6,
   "metadata": {},
   "outputs": [
    {
     "name": "stderr",
     "output_type": "stream",
     "text": [
      "c:\\Users\\fangy\\miniconda3\\envs\\bert_nlp\\lib\\site-packages\\langchain\\chains\\retrieval_qa\\base.py:206: UserWarning: `VectorDBQA` is deprecated - please use `from langchain.chains import RetrievalQA`\n",
      "  warnings.warn(\n"
     ]
    }
   ],
   "source": [
    "from langchain.chains import VectorDBQA\n",
    "from langchain.chat_models import ChatOpenAI\n",
    "\n",
    "qa = VectorDBQA.from_chain_type(llm=ChatOpenAI(), chain_type=\"stuff\", vectorstore=db, k=1)"
   ]
  },
  {
   "cell_type": "code",
   "execution_count": 11,
   "metadata": {},
   "outputs": [
    {
     "data": {
      "text/plain": [
       "\"It depends on the type of party you're attending. If it's a beach party, summer barbecue, vacation, day at the beach, casual summer gathering, pool party, music festival, weekend outing, picnic, or cruise, you can consider outfit 1. It consists of a crisp white button-up shirt with a navy blue v-neck sweater layered over it, khaki chinos or trousers, brown leather loafers, a striped or solid-colored silk tie, a leather belt, and a classic wristwatch. \\n\\nIf it's a casual gathering, concert, sport event, weekend outing, casual shopping, city exploration, skate park, music festival, road trip, or streetwear event, you can consider outfit 2. It includes a bomber jacket or a varsity jacket, a plain or striped t-shirt for layering, baggy jeans or cargo pants, high-top sneakers or boots, a baseball cap worn backward, a chain necklace, and a beanie. \\n\\nIf you provide more details about the party, I can help you choose the appropriate outfit.\""
      ]
     },
     "execution_count": 11,
     "metadata": {},
     "output_type": "execute_result"
    }
   ],
   "source": [
    "query = \"What to wear for a party?\"\n",
    "qa.run(query)"
   ]
  },
  {
   "cell_type": "code",
   "execution_count": 8,
   "metadata": {},
   "outputs": [
    {
     "name": "stdout",
     "output_type": "stream",
     "text": [
      "{\n",
      "   \"party\":{\n",
      "      \"outfit 1\":{\n",
      "         \"Top\":\"A crisp white button-up shirt with a navy blue v-neck sweater layered over it.\",\n",
      "         \"Bottom\":\"Khaki chinos or trousers.\",\n",
      "         \"Shoes\":\"Brown leather loafers.\",\n",
      "         \"Accessories\":[\n",
      "            \"A striped or solid-colored silk tie\",\n",
      "            \"a leather belt\",\n",
      "            \"a classic wristwatch\"\n",
      "         ]\n",
      "      },\n",
      "      \"outfit 2\":{\n",
      "         \"Top\":\"Bomber jacket or a varsity jacket.\",\n",
      "         \"Layering\":\"Plain or striped t-shirt.\",\n",
      "         \"Bottom\":\"Baggy jeans or cargo pants.\",\n",
      "         \"Footwear\":\"High-top sneakers or boots.\",\n",
      "         \"Accessories\":[\n",
      "            \"Baseball cap worn backward\",\n",
      "            \"a chain necklace\",\n",
      "            \"a beanie\"\n",
      "         ]\n",
      "      }\n",
      "   }\n",
      "}\n"
     ]
    }
   ],
   "source": [
    "query1 = \"What to wear for a party? Format it in python dictionary\"\n",
    "response1 = qa.run(query1)\n",
    "print(response1)"
   ]
  },
  {
   "cell_type": "code",
   "execution_count": 10,
   "metadata": {},
   "outputs": [
    {
     "data": {
      "text/plain": [
       "{'Top': 'A crisp white button-up shirt with a navy blue v-neck sweater layered over it.',\n",
       " 'Bottom': 'Khaki chinos or trousers.',\n",
       " 'Shoes': 'Brown leather loafers.',\n",
       " 'Accessories': ['A striped or solid-colored silk tie',\n",
       "  'a leather belt',\n",
       "  'a classic wristwatch']}"
      ]
     },
     "execution_count": 10,
     "metadata": {},
     "output_type": "execute_result"
    }
   ],
   "source": [
    "y = json.loads(response1)\n",
    "y['party']['outfit 1']"
   ]
  },
  {
   "cell_type": "code",
   "execution_count": 13,
   "metadata": {},
   "outputs": [
    {
     "name": "stdout",
     "output_type": "stream",
     "text": [
      "Based on the provided context, outfit 1 is suitable for a party.\n"
     ]
    }
   ],
   "source": [
    "query9 = \"What to wear for a party? Tell me the outfit number only based on the provided context\"\n",
    "response9 = qa.run(query9)\n",
    "print(response9)"
   ]
  },
  {
   "cell_type": "code",
   "execution_count": 13,
   "metadata": {},
   "outputs": [
    {
     "name": "stdout",
     "output_type": "stream",
     "text": [
      "{\n",
      "  \"outfit_number\": 30,\n",
      "  \"occasion\": \"Gym\",\n",
      "  \"items\": [\n",
      "    \"Sports Luxe: Blending sportswear and luxury elements\",\n",
      "    \"joggers\",\n",
      "    \"hoodies\",\n",
      "    \"sneakers\"\n",
      "  ]\n",
      "}\n"
     ]
    }
   ],
   "source": [
    "query2 = \"What to wear for a gym? Format it in python dictionary\"\n",
    "response2 = qa.run(query2)\n",
    "print(response2)"
   ]
  },
  {
   "cell_type": "code",
   "execution_count": 16,
   "metadata": {},
   "outputs": [
    {
     "name": "stdout",
     "output_type": "stream",
     "text": [
      "Category: Formal attire\n",
      "Color: Classic black or dark navy\n",
      "Texture: Smooth and refined\n",
      "\n",
      "Outfit:\n",
      "{\n",
      "  \"Top\": \"Tailored black or navy suit jacket\",\n",
      "  \"Bottom\": \"Matching suit trousers\",\n",
      "  \"Shirt\": \"Crisp white dress shirt\",\n",
      "  \"Tie\": \"Silk tie in a complementary color\",\n",
      "  \"Shoes\": \"Polished black leather shoes\",\n",
      "  \"Accessories\": \"Matching belt, cufflinks, and a sleek wristwatch\"\n",
      "}\n"
     ]
    }
   ],
   "source": [
    "query3 = \"What to wear for a wedding? Describe the outfit in terms of cateogry, color and texture. Format it in python dictionary\"\n",
    "response3 = qa.run(query3)\n",
    "print(response3)"
   ]
  },
  {
   "cell_type": "code",
   "execution_count": 17,
   "metadata": {},
   "outputs": [
    {
     "name": "stdout",
     "output_type": "stream",
     "text": [
      "{\n",
      "  \"Top\": \"Crisp white button-up shirt\",\n",
      "  \"Layering\": \"Navy blue v-neck sweater\",\n",
      "  \"Bottom\": \"Khaki chinos or trousers\",\n",
      "  \"Shoes\": \"Brown leather loafers\",\n",
      "  \"Accessories\": \"Striped or solid-colored silk tie, leather belt, classic wristwatch\"\n",
      "}\n"
     ]
    }
   ],
   "source": [
    "query3 = \"What to wear for a wedding? Format it in python dictionary without newspace\"\n",
    "response3 = qa.run(query3)\n",
    "print(response3)"
   ]
  },
  {
   "cell_type": "code",
   "execution_count": 18,
   "metadata": {},
   "outputs": [
    {
     "name": "stdout",
     "output_type": "stream",
     "text": [
      "{\"outfit 30\": \"Sports Luxe: Blending sportswear and luxury elements, sports luxe style combines athletic-inspired clothing like joggers, hoodies, and sneakers with high-end fabrics, tailored cuts, and refined details.\"}\n"
     ]
    }
   ],
   "source": [
    "query2 = \"What to wear for a gym? Format it in python dictionary without newspace\"\n",
    "response2 = qa.run(query2)\n",
    "print(response2)"
   ]
  },
  {
   "cell_type": "code",
   "execution_count": 19,
   "metadata": {},
   "outputs": [
    {
     "name": "stdout",
     "output_type": "stream",
     "text": [
      "{\n",
      "  \"Outerwear\": \"A lightweight zip-up hoodie or a moisture-wicking jacket.\",\n",
      "  \"Top\": \"A breathable and moisture-wicking athletic t-shirt or tank top.\",\n",
      "  \"Bottom\": \"Comfortable and flexible workout shorts or leggings.\",\n",
      "  \"Footwear\": \"Proper athletic shoes with good support and grip.\",\n",
      "  \"Accessories\": \"A sweatband or headband to keep sweat away from the face, and a water bottle to stay hydrated.\"\n",
      "}\n"
     ]
    }
   ],
   "source": [
    "prompt4 = \"What to wear for a gym? Describe the outfit in terms of 'Outerwear', 'Top', 'Bottom', 'Footwear', 'Accessories'. Format response in python dictionary without newspace\" \n",
    "\n",
    "response4 = qa.run(prompt4)\n",
    "print(response4)"
   ]
  },
  {
   "cell_type": "markdown",
   "metadata": {},
   "source": [
    "## key-take-away\n",
    "\n",
    "Need to provide a text or other format resources to describe outfit. Then use prompt to let GPT answer questions based on the provided resources. \n",
    "\n",
    "Several important things: \n",
    "1) The description of outfit need to be high-quality to allow chatgpt to provide detailed outfit suggestion. \n",
    "2) chatgpt is simply doing semantic search among the occasions of outfit then repeat the description of outfit. \\\n",
    "-To save GPT quota, we may not need to provide outfit description but only occasion description to GPT. \\\n",
    "-Once GPT decides the outfit number, we can simply call out the detailed outfit description from our database. \n",
    "3) If chatGPT is simply doing semantic search, the use of chatgpt to generate outfit suggestion might not be necessary. \\\n",
    "-First, we can ask chatgpt to generate query like \"occasion - season - style\" then search in our outfit dataset, instead of let chatgpt suggest outfit directly. \\\n",
    "-Net, use prompt template to directly output our prepared outfit images and let user choose one\\\n",
    "-Finally go back to search for product based on the selected outfit description. \n",
    "\n",
    "Note: we need to be careful about how GPT accounts for token usage\n"
   ]
  },
  {
   "cell_type": "markdown",
   "metadata": {},
   "source": [
    "# Ways to directly output outfit from database"
   ]
  },
  {
   "cell_type": "markdown",
   "metadata": {},
   "source": [
    "https://towardsdatascience.com/use-langchains-output-parser-with-chatgpt-for-structured-outputs-cf536f692685"
   ]
  },
  {
   "cell_type": "code",
   "execution_count": 14,
   "metadata": {},
   "outputs": [],
   "source": [
    "from langchain import PromptTemplate\n",
    "prompt_template = PromptTemplate.from_template(\n",
    "    \"I suggest the following outfit {content}.\"\n",
    ")\n"
   ]
  },
  {
   "cell_type": "code",
   "execution_count": 18,
   "metadata": {},
   "outputs": [],
   "source": [
    "outfit = '''\\nTop: A crisp white button-up shirt with a navy blue v-neck sweater layered over it.\n",
    "Bottom: Khaki chinos or trousers.\n",
    "Shoes: Brown leather loafers.\n",
    "Accessories: A striped or solid-colored silk tie, a leather belt, and a classic wristwatch.'''\n",
    "\n",
    "response = prompt_template.format(content= outfit)"
   ]
  },
  {
   "cell_type": "code",
   "execution_count": 19,
   "metadata": {},
   "outputs": [
    {
     "name": "stdout",
     "output_type": "stream",
     "text": [
      "I suggest the following outfit \n",
      "Top: A crisp white button-up shirt with a navy blue v-neck sweater layered over it.\n",
      "Bottom: Khaki chinos or trousers.\n",
      "Shoes: Brown leather loafers.\n",
      "Accessories: A striped or solid-colored silk tie, a leather belt, and a classic wristwatch..\n"
     ]
    }
   ],
   "source": [
    "print(response)"
   ]
  }
 ],
 "metadata": {
  "kernelspec": {
   "display_name": "bert_nlp",
   "language": "python",
   "name": "python3"
  },
  "language_info": {
   "codemirror_mode": {
    "name": "ipython",
    "version": 3
   },
   "file_extension": ".py",
   "mimetype": "text/x-python",
   "name": "python",
   "nbconvert_exporter": "python",
   "pygments_lexer": "ipython3",
   "version": "3.9.16"
  },
  "orig_nbformat": 4
 },
 "nbformat": 4,
 "nbformat_minor": 2
}
