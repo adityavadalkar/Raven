{
 "cells": [
  {
   "cell_type": "code",
   "execution_count": 1,
   "metadata": {},
   "outputs": [],
   "source": [
    "import openai\n",
    "\n",
    "# replace YOUR_API_KEY with your actual API key for the ChatGPT service\n",
    "openai.api_key = \"\"\n",
    "\n",
    "import os \n",
    "os.environ[\"OPENAI_API_KEY\"] = \"\"\n",
    "\n",
    "import json\n"
   ]
  },
  {
   "cell_type": "markdown",
   "metadata": {},
   "source": [
    "https://medium.com/mlearning-ai/using-chatgpt-api-to-ask-contextual-questions-within-your-application-a80b6a76da98"
   ]
  },
  {
   "cell_type": "code",
   "execution_count": 3,
   "metadata": {},
   "outputs": [],
   "source": [
    "def get_completion(prompt, model=\"gpt-3.5-turbo\"):\n",
    "\n",
    "    messages = [\n",
    "        {\n",
    "        \"role\": \"user\", \n",
    "        \"content\": prompt}\n",
    "        ]\n",
    "\n",
    "    completion = openai.ChatCompletion.create(\n",
    "\n",
    "    model=model,\n",
    "\n",
    "    messages=messages,\n",
    "\n",
    "    temperature=0,# hatGPT responses are indeterministic. It means every time you call the API you will get slightly different response. You can make it deterministic by passing the parameter temperate to 0\n",
    "\n",
    "    )\n",
    "\n",
    "    return completion.choices[0].message[\"content\"]"
   ]
  },
  {
   "cell_type": "code",
   "execution_count": 7,
   "metadata": {},
   "outputs": [
    {
     "name": "stdout",
     "output_type": "stream",
     "text": [
      "{\n",
      "  \"response\": \"For a young lady attending a classical concert in Chicago winter, it is important to dress warmly and elegantly. Here are some suggestions for the outfit:\",\n",
      "  \"outfit\": [\n",
      "    \"A long wool coat or a stylish trench coat\",\n",
      "    \"A warm sweater or a cashmere turtleneck\",\n",
      "    \"A knee-length or midi dress in a luxurious fabric like velvet or silk\",\n",
      "    \"Thick tights or leggings to keep the legs warm\",\n",
      "    \"Ankle boots or knee-high boots with a low heel for comfort\",\n",
      "    \"A statement scarf or a faux fur stole for added warmth and style\",\n",
      "    \"Gloves and a hat to protect from the cold\",\n",
      "    \"Accessorize with simple jewelry and a small clutch or crossbody bag\"\n",
      "  ]\n",
      "}\n"
     ]
    }
   ],
   "source": [
    "prompt2 = \"What to wear if a young lady go to a classical concert in Chicago winter? Format response in python json\" \n",
    "\n",
    "response2 = get_completion(prompt2, model=\"gpt-3.5-turbo\")\n",
    "print(response2)"
   ]
  },
  {
   "cell_type": "code",
   "execution_count": null,
   "metadata": {},
   "outputs": [],
   "source": [
    "prompt = \"What to wear if a young lady go to a classical concert in Chicago winter? Format response in python dictionary without newspace\" \n",
    "\n",
    "response = get_completion(prompt, model=\"gpt-3.5-turbo\")\n",
    "print(response)"
   ]
  },
  {
   "cell_type": "code",
   "execution_count": 18,
   "metadata": {},
   "outputs": [
    {
     "data": {
      "text/plain": [
       "{'Outerwear': 'A warm wool coat or a long down jacket',\n",
       " 'Top': 'A cozy sweater or a turtleneck',\n",
       " 'Bottom': 'A pair of tailored trousers or a knee-length skirt with tights',\n",
       " 'Footwear': 'Knee-high boots or closed-toe heels',\n",
       " 'Accessories': 'A stylish scarf, gloves, and a hat',\n",
       " 'Additional': 'Layering with a thermal or long-sleeved shirt underneath'}"
      ]
     },
     "execution_count": 18,
     "metadata": {},
     "output_type": "execute_result"
    }
   ],
   "source": [
    "y = json.loads(response)\n",
    "y"
   ]
  },
  {
   "cell_type": "code",
   "execution_count": null,
   "metadata": {},
   "outputs": [
    {
     "name": "stdout",
     "output_type": "stream",
     "text": [
      "{\n",
      "  \"Outerwear\": \"A long wool coat that provides warmth and elegance.\",\n",
      "  \"Top\": \"A cozy turtleneck sweater in a neutral color like black or gray.\",\n",
      "  \"Bottom\": \"A pair of tailored trousers or a knee-length skirt.\",\n",
      "  \"Footwear\": \"Knee-high boots with a low heel to keep your feet warm and comfortable.\",\n",
      "  \"Accessories\": \"A stylish scarf, leather gloves, and a beret or beanie to complete the winter look.\"\n",
      "}\n"
     ]
    }
   ],
   "source": [
    "prompt4 = \"What to wear if a young lady go to a classical concert in Chicago winter? Describe the outfit in terms of 'Outerwear', 'Top', 'Bottom', 'Footwear', 'Accessories'. Format response in python dictionary without newspace\" \n",
    "\n",
    "response4 = get_completion(prompt4, model=\"gpt-3.5-turbo\")\n",
    "print(response4)"
   ]
  },
  {
   "cell_type": "code",
   "execution_count": null,
   "metadata": {},
   "outputs": [
    {
     "name": "stdout",
     "output_type": "stream",
     "text": [
      "{\n",
      "  \"Outerwear\": \"A long wool coat\",\n",
      "  \"Top\": \"A turtleneck sweater\",\n",
      "  \"Bottom\": \"A knee-length skirt\",\n",
      "  \"Footwear\": \"Knee-high boots\",\n",
      "  \"Accessories\": \"A cashmere scarf\"\n",
      "}\n"
     ]
    }
   ],
   "source": [
    "prompt5 = \"What to wear if a young lady go to a classical concert in Chicago winter? Describe the outfit in terms of 'Outerwear', 'Top', 'Bottom', 'Footwear', 'Accessories'. Give me one definite answer. Format response in python dictionary without newspace\" \n",
    "\n",
    "response5 = get_completion(prompt5, model=\"gpt-3.5-turbo\")\n",
    "print(response5)"
   ]
  },
  {
   "cell_type": "code",
   "execution_count": 20,
   "metadata": {},
   "outputs": [
    {
     "name": "stdout",
     "output_type": "stream",
     "text": [
      "{\n",
      "  \"Outerwear\": {\n",
      "    \"Color\": \"Black\",\n",
      "    \"Texture\": \"Wool\",\n",
      "    \"Category\": \"Coat\"\n",
      "  },\n",
      "  \"Top\": {\n",
      "    \"Color\": \"White\",\n",
      "    \"Texture\": \"Silk\",\n",
      "    \"Category\": \"Blouse\"\n",
      "  },\n",
      "  \"Bottom\": {\n",
      "    \"Color\": \"Black\",\n",
      "    \"Texture\": \"Velvet\",\n",
      "    \"Category\": \"Trousers\"\n",
      "  },\n",
      "  \"Footwear\": {\n",
      "    \"Color\": \"Black\",\n",
      "    \"Texture\": \"Leather\",\n",
      "    \"Category\": \"Ankle Boots\"\n",
      "  },\n",
      "  \"Accessories\": {\n",
      "    \"Color\": \"Silver\",\n",
      "    \"Texture\": \"Metal\",\n",
      "    \"Category\": \"Earrings\"\n",
      "  }\n",
      "}\n"
     ]
    }
   ],
   "source": [
    "prompt3 = \"What to wear if a young lady go to a classical concert in Chicago winter? Describe the outfit in terms of 'Outerwear', 'Top', 'Bottom', 'Footwear', 'Accessories'. Describe the color, texture and category. Format response in python dictionary without newspace\" \n",
    "\n",
    "response3 = get_completion(prompt3, model=\"gpt-3.5-turbo\")\n",
    "print(response3)"
   ]
  },
  {
   "cell_type": "code",
   "execution_count": 23,
   "metadata": {},
   "outputs": [
    {
     "name": "stdout",
     "output_type": "stream",
     "text": [
      "{\n",
      "  \"Outfit 1\": {\n",
      "    \"Outerwear\": \"Long wool coat\",\n",
      "    \"Top\": \"Turtleneck sweater\",\n",
      "    \"Bottom\": \"High-waisted wool skirt\",\n",
      "    \"Footwear\": \"Knee-high leather boots\",\n",
      "    \"Accessories\": \"Cashmere scarf and leather gloves\"\n",
      "  },\n",
      "  \"Outfit 2\": {\n",
      "    \"Outerwear\": \"Faux fur coat\",\n",
      "    \"Top\": \"Silk blouse\",\n",
      "    \"Bottom\": \"Wide-leg trousers\",\n",
      "    \"Footwear\": \"Ankle boots\",\n",
      "    \"Accessories\": \"Statement necklace and leather gloves\"\n",
      "  },\n",
      "  \"Outfit 3\": {\n",
      "    \"Outerwear\": \"Quilted parka\",\n",
      "    \"Top\": \"Chunky knit sweater\",\n",
      "    \"Bottom\": \"Skinny jeans\",\n",
      "    \"Footwear\": \"Suede ankle boots\",\n",
      "    \"Accessories\": \"Beanie hat and fingerless gloves\"\n",
      "  }\n",
      "}\n"
     ]
    }
   ],
   "source": [
    "prompt6 = \"What to wear if a young lady go to a classical concert in Chicago winter? Describe the outfit in terms of 'Outerwear', 'Top', 'Bottom', 'Footwear', 'Accessories'. Give me three definite outfit. Format response in python dictionary without newspace\" \n",
    "\n",
    "response6 = get_completion(prompt6, model=\"gpt-3.5-turbo\")\n",
    "print(response6)"
   ]
  },
  {
   "cell_type": "code",
   "execution_count": 24,
   "metadata": {},
   "outputs": [
    {
     "name": "stdout",
     "output_type": "stream",
     "text": [
      "{\n",
      "  \"Outfit 1\": {\n",
      "    \"Outerwear\": \"Long wool coat\",\n",
      "    \"Top\": \"Cashmere turtleneck sweater\",\n",
      "    \"Bottom\": \"Black tailored trousers\",\n",
      "    \"Footwear\": \"Knee-high leather boots\",\n",
      "    \"Accessories\": \"Black leather gloves\"\n",
      "  },\n",
      "  \"Outfit 2\": {\n",
      "    \"Outerwear\": \"Faux fur jacket\",\n",
      "    \"Top\": \"Silk blouse\",\n",
      "    \"Bottom\": \"A-line midi skirt\",\n",
      "    \"Footwear\": \"Suede ankle boots\",\n",
      "    \"Accessories\": \"Statement necklace\"\n",
      "  },\n",
      "  \"Outfit 3\": {\n",
      "    \"Outerwear\": \"Quilted down jacket\",\n",
      "    \"Top\": \"Chunky knit sweater\",\n",
      "    \"Bottom\": \"Dark wash jeans\",\n",
      "    \"Footwear\": \"Leather ankle boots\",\n",
      "    \"Accessories\": \"Patterned scarf\"\n",
      "  }\n",
      "}\n"
     ]
    }
   ],
   "source": [
    "prompt7 = \"What to wear if a young lady go to a classical concert in Chicago winter? Describe the outfit in terms of 'Outerwear', 'Top', 'Bottom', 'Footwear', 'Accessories'. Give me three definite outfit with color, style and texture. Format response in python dictionary without newspace\" \n",
    "\n",
    "response7 = get_completion(prompt7, model=\"gpt-3.5-turbo\")\n",
    "print(response7)"
   ]
  },
  {
   "cell_type": "code",
   "execution_count": 25,
   "metadata": {},
   "outputs": [
    {
     "name": "stdout",
     "output_type": "stream",
     "text": [
      "{\n",
      "  \"Outfit 1\": {\n",
      "    \"Outerwear\": \"Long wool coat\",\n",
      "    \"Top\": \"Turtleneck sweater\",\n",
      "    \"Bottom\": \"High-waisted wool skirt\",\n",
      "    \"Footwear\": \"Knee-high leather boots\",\n",
      "    \"Accessories\": \"Cashmere scarf, leather gloves\",\n",
      "    \"Color\": \"Neutral tones\"\n",
      "  },\n",
      "  \"Outfit 2\": {\n",
      "    \"Outerwear\": \"Faux fur coat\",\n",
      "    \"Top\": \"Silk blouse\",\n",
      "    \"Bottom\": \"Wide-leg trousers\",\n",
      "    \"Footwear\": \"Ankle boots\",\n",
      "    \"Accessories\": \"Statement necklace, leather gloves\",\n",
      "    \"Color\": \"Rich jewel tones\"\n",
      "  },\n",
      "  \"Outfit 3\": {\n",
      "    \"Outerwear\": \"Quilted parka\",\n",
      "    \"Top\": \"Chunky knit sweater\",\n",
      "    \"Bottom\": \"Skinny jeans\",\n",
      "    \"Footwear\": \"Warm lined boots\",\n",
      "    \"Accessories\": \"Beanie hat, cozy scarf\",\n",
      "    \"Color\": \"Winter blues and grays\"\n",
      "  }\n",
      "}\n"
     ]
    }
   ],
   "source": [
    "prompt8 = \"What to wear if a young lady go to a classical concert in Chicago winter? Describe the outfit in terms of 'Outerwear', 'Top', 'Bottom', 'Footwear', 'Accessories' and color. Give me three definite outfit. Format response in python dictionary without newspace\" \n",
    "\n",
    "response8 = get_completion(prompt8, model=\"gpt-3.5-turbo\")\n",
    "print(response8)"
   ]
  },
  {
   "cell_type": "code",
   "execution_count": 26,
   "metadata": {},
   "outputs": [
    {
     "name": "stdout",
     "output_type": "stream",
     "text": [
      "{\n",
      "  \"Outfit 1\": {\n",
      "    \"Outerwear\": \"Long wool coat\",\n",
      "    \"Top\": \"Cashmere turtleneck sweater\",\n",
      "    \"Bottom\": \"Black tailored trousers\",\n",
      "    \"Footwear\": \"Knee-high leather boots\",\n",
      "    \"Accessories\": \"Wool scarf and leather gloves\"\n",
      "  },\n",
      "  \"Outfit 2\": {\n",
      "    \"Outerwear\": \"Faux fur jacket\",\n",
      "    \"Top\": \"Silk blouse\",\n",
      "    \"Bottom\": \"A-line midi skirt\",\n",
      "    \"Footwear\": \"Suede ankle boots\",\n",
      "    \"Accessories\": \"Statement necklace and leather gloves\"\n",
      "  },\n",
      "  \"Outfit 3\": {\n",
      "    \"Outerwear\": \"Quilted down jacket\",\n",
      "    \"Top\": \"Chunky knit sweater\",\n",
      "    \"Bottom\": \"Dark wash jeans\",\n",
      "    \"Footwear\": \"Leather ankle boots\",\n",
      "    \"Accessories\": \"Beanie hat and cozy scarf\"\n",
      "  }\n",
      "}\n"
     ]
    }
   ],
   "source": [
    "prompt9 = \"What to wear if a young lady go to a classical concert in Chicago winter? Give me three definite outfit. Describe the categroy, color and texture of the outfit. Describe the category in terms of 'Outerwear', 'Top', 'Bottom', 'Footwear', 'Accessories'. Format response in python dictionary without newspace\" \n",
    "\n",
    "response9 = get_completion(prompt9, model=\"gpt-3.5-turbo\")\n",
    "print(response9)"
   ]
  },
  {
   "cell_type": "markdown",
   "metadata": {},
   "source": [
    "## key-take-away\n",
    "\n",
    "chatgpt does not natuarally generate advice about color, style texture for a outfit. Color, style, texture matching might need some extra work"
   ]
  }
 ],
 "metadata": {
  "kernelspec": {
   "display_name": "bert_nlp",
   "language": "python",
   "name": "python3"
  },
  "language_info": {
   "codemirror_mode": {
    "name": "ipython",
    "version": 3
   },
   "file_extension": ".py",
   "mimetype": "text/x-python",
   "name": "python",
   "nbconvert_exporter": "python",
   "pygments_lexer": "ipython3",
   "version": "3.9.16"
  },
  "orig_nbformat": 4
 },
 "nbformat": 4,
 "nbformat_minor": 2
}
